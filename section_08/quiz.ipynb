{
 "cells": [
  {
   "cell_type": "code",
   "execution_count": null,
   "metadata": {},
   "outputs": [],
   "source": [
    "# 주어진 코드를 활용하여 부동산 프로그램을 작성\n",
    "\n",
    "# 출력예제\n",
    "\"\"\"\n",
    "총 3대의 매물이 있습니다.\n",
    "강남 아파트 매매 10억 2010년\n",
    "마포 오피스텔 전세 5억 2007년\n",
    "송파 빌라 월세 500/50 2000년\n",
    "\"\"\""
   ]
  },
  {
   "cell_type": "code",
   "execution_count": 4,
   "metadata": {},
   "outputs": [
    {
     "name": "stdout",
     "output_type": "stream",
     "text": [
      "총 3대의 매물이 있습니다.\n",
      "강남 아파트 매매 10억 2010년\n",
      "마포 오피스텔 전세 5억 2007년\n",
      "송파 빌라 월세 500/50 2000년\n"
     ]
    }
   ],
   "source": [
    "class House:\n",
    "    # 매물 초기화\n",
    "    def __init__(self, location, house_type, deal_type, price, completion_year):\n",
    "        self.location = location\n",
    "        self.house_type = house_type\n",
    "        self.deal_type = deal_type\n",
    "        self.price = price\n",
    "        self.completion_year = completion_year\n",
    "\n",
    "    # 매물 정보 표시\n",
    "    def show_detail(self):\n",
    "        print(\n",
    "            f\"{self.location} {self.house_type} {self.deal_type} {self.price} {self.completion_year}\"\n",
    "        )\n",
    "\n",
    "\n",
    "houses = []\n",
    "house1 = House(\"강남\", \"아파트\", \"매매\", \"10억\", \"2010년\")\n",
    "house2 = House(\"마포\", \"오피스텔\", \"전세\", \"5억\", \"2007년\")\n",
    "house3 = House(\"송파\", \"빌라\", \"월세\", \"500/50\", \"2000년\")\n",
    "\n",
    "houses.append(house1)\n",
    "houses.append(house2)\n",
    "houses.append(house3)\n",
    "\n",
    "print(f\"총 {len(houses)}대의 매물이 있습니다.\")\n",
    "for house in houses:\n",
    "    house.show_detail()"
   ]
  }
 ],
 "metadata": {
  "kernelspec": {
   "display_name": "base",
   "language": "python",
   "name": "python3"
  },
  "language_info": {
   "codemirror_mode": {
    "name": "ipython",
    "version": 3
   },
   "file_extension": ".py",
   "mimetype": "text/x-python",
   "name": "python",
   "nbconvert_exporter": "python",
   "pygments_lexer": "ipython3",
   "version": "3.12.4"
  }
 },
 "nbformat": 4,
 "nbformat_minor": 2
}
