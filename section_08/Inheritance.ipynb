{
 "cells": [
  {
   "cell_type": "code",
   "execution_count": null,
   "metadata": {},
   "outputs": [],
   "source": [
    "# 상속\n",
    "\n",
    "\n",
    "# 일반 유닛\n",
    "class Unit:\n",
    "    def __init__(self, name, hp):\n",
    "        self.name = name\n",
    "        self.hp = hp\n",
    "\n",
    "\n",
    "# 공격 유닛 (Unit 을 상속 받는다.)\n",
    "class AttackUnit(Unit):\n",
    "    def __init__(self, name, hp, damage):\n",
    "        Unit.__init__(self, name, hp)\n",
    "        self.damage = damage\n",
    "\n",
    "    def attack(self, location):\n",
    "        print(\n",
    "            \"{0}:{1} 방향으로 적군을 공격합니다. [공격력 {2}]\".format(\n",
    "                self.name, location, self.damage\n",
    "            )\n",
    "        )\n",
    "\n",
    "    def damaged(self, damage):\n",
    "        print(\"{} : {} 데미지를 입었습니다.\".format(self.name, damage))\n",
    "        self.hp -= damage\n",
    "        print(\"{} : 현재 체력은 {} 입니다.\".format(self.name, self.hp))\n",
    "        if self.hp <= 0:\n",
    "            print(\"{} : 파괴었습니다.\".format(self.name))\n",
    "\n",
    "\n",
    "# 메딕 : 의무병\n",
    "\n",
    "\n",
    "# 파이어뱃 : 공격 유닛, 화염방사기\n",
    "firebat1 = AttackUnit(\"파이어뱃\", 50, 16)\n",
    "firebat1.attack(\"5시\")\n",
    "\n",
    "# 공격 2번을 받는다고 가정\n",
    "firebat1.damaged(25)\n",
    "firebat1.damaged(25)"
   ]
  }
 ],
 "metadata": {
  "language_info": {
   "name": "python"
  }
 },
 "nbformat": 4,
 "nbformat_minor": 2
}
