{
 "cells": [
  {
   "cell_type": "code",
   "execution_count": 2,
   "metadata": {},
   "outputs": [
    {
     "name": "stdout",
     "output_type": "stream",
     "text": [
      "발키리 : 3시 방향으로 날아갑니다. [속도 5]\n"
     ]
    }
   ],
   "source": [
    "# 다중상속\n",
    "\n",
    "\n",
    "# 일반 유닛 (부모 클래스)\n",
    "class Unit:\n",
    "    def __init__(self, name, hp):\n",
    "        self.name = name\n",
    "        self.hp = hp\n",
    "\n",
    "\n",
    "# 공격 유닛 (Unit 을 상속 받는다.)\n",
    "# 자식 클래스\n",
    "class AttackUnit(Unit):\n",
    "    def __init__(self, name, hp, damage):\n",
    "        Unit.__init__(self, name, hp)  # 부모의 name, hp 를 상속 받는다.\n",
    "        self.damage = damage\n",
    "\n",
    "    def attack(self, location):\n",
    "        print(\n",
    "            \"{0}:{1} 방향으로 적군을 공격합니다. [공격력 {2}]\".format(\n",
    "                self.name, location, self.damage\n",
    "            )\n",
    "        )\n",
    "\n",
    "    def damaged(self, damage):\n",
    "        print(\"{} : {} 데미지를 입었습니다.\".format(self.name, damage))\n",
    "        self.hp -= damage\n",
    "        print(\"{} : 현재 체력은 {} 입니다.\".format(self.name, self.hp))\n",
    "        if self.hp <= 0:\n",
    "            print(\"{} : 파괴었습니다.\".format(self.name))\n",
    "\n",
    "\n",
    "# 드랍쉽 : 공중 유닛, 수송기, 마린/ 파이버뱃 / 탱크 등을 수송, 공격 기능 X\n",
    "\n",
    "\n",
    "# 날 수 있는 기능을 가진 클래스\n",
    "class Flyable:\n",
    "    def __init__(self, flying_spped):\n",
    "        self.flying_speed = flying_spped\n",
    "\n",
    "    def fly(self, name, location):\n",
    "        print(\n",
    "            \"{0} : {1} 방향으로 날아갑니다. [속도 {2}]\".format(\n",
    "                name, location, self.flying_speed\n",
    "            )\n",
    "        )\n",
    "\n",
    "\n",
    "# 공중 공격 유닛 클래스\n",
    "class FlyableAttackUnit(AttackUnit, Flyable):\n",
    "    def __init__(self, name, hp, damage, flying_speed):\n",
    "        AttackUnit.__init__(self, name, hp, damage)\n",
    "        Flyable.__init__(self, flying_speed)\n",
    "\n",
    "\n",
    "# 발키리 : 공중 공격 유닛, 한 번에 14발 미사일 발사.\n",
    "valkyrie = FlyableAttackUnit(\"발키리\", 200, 6, 5)\n",
    "valkyrie.fly(valkyrie.name, \"3시\")"
   ]
  }
 ],
 "metadata": {
  "kernelspec": {
   "display_name": "base",
   "language": "python",
   "name": "python3"
  },
  "language_info": {
   "codemirror_mode": {
    "name": "ipython",
    "version": 3
   },
   "file_extension": ".py",
   "mimetype": "text/x-python",
   "name": "python",
   "nbconvert_exporter": "python",
   "pygments_lexer": "ipython3",
   "version": "3.12.4"
  }
 },
 "nbformat": 4,
 "nbformat_minor": 2
}
