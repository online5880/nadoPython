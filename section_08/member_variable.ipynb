{
 "cells": [
  {
   "cell_type": "code",
   "execution_count": 5,
   "metadata": {},
   "outputs": [
    {
     "name": "stdout",
     "output_type": "stream",
     "text": [
      "레이스 유닛이 생성 되었습니다.\n",
      "체력 80, 공격력 5\n",
      "유닛 이름 : 레이스, 공격력 5\n",
      "빼앗은 레이스 유닛이 생성 되었습니다.\n",
      "체력 80, 공격력 5\n"
     ]
    },
    {
     "ename": "AttributeError",
     "evalue": "'Unit' object has no attribute 'clocking'",
     "output_type": "error",
     "traceback": [
      "\u001b[0;31m---------------------------------------------------------------------------\u001b[0m",
      "\u001b[0;31mAttributeError\u001b[0m                            Traceback (most recent call last)",
      "Cell \u001b[0;32mIn[5], line 30\u001b[0m\n\u001b[1;32m     27\u001b[0m \u001b[38;5;66;03m# 파이썬에서는 어떤 객체의 추가로 변수를 외부에서 만들어 쓸 수 있다.\u001b[39;00m\n\u001b[1;32m     28\u001b[0m wraith2\u001b[38;5;241m.\u001b[39mclocking \u001b[38;5;241m=\u001b[39m \u001b[38;5;28;01mTrue\u001b[39;00m\n\u001b[0;32m---> 30\u001b[0m \u001b[38;5;28;01mif\u001b[39;00m wraith1\u001b[38;5;241m.\u001b[39mclocking \u001b[38;5;241m==\u001b[39m \u001b[38;5;28;01mTrue\u001b[39;00m:\n\u001b[1;32m     31\u001b[0m     \u001b[38;5;28mprint\u001b[39m(\u001b[38;5;124m\"\u001b[39m\u001b[38;5;132;01m{0}\u001b[39;00m\u001b[38;5;124m는 현재 클로킹 상태입니다.\u001b[39m\u001b[38;5;124m\"\u001b[39m\u001b[38;5;241m.\u001b[39mformat(wraith2\u001b[38;5;241m.\u001b[39mname))\n",
      "\u001b[0;31mAttributeError\u001b[0m: 'Unit' object has no attribute 'clocking'"
     ]
    }
   ],
   "source": [
    "# 멤버변수\n",
    "# 어떤 클래스 내에서 정의된 변수\n",
    "\n",
    "\n",
    "class Unit:\n",
    "    def __init__(self, name, hp, damage):\n",
    "        self.name = name\n",
    "        self.hp = hp\n",
    "        self.damage = damage\n",
    "        print(f\"{name} 유닛이 생성 되었습니다.\")\n",
    "        print(f\"체력 {hp}, 공격력 {damage}\")\n",
    "\n",
    "\n",
    "# marine1 = Unit(\"마린\", 40, 5)\n",
    "# marine2 = Unit(\"마린\", 40, 5)\n",
    "# tank = Unit(\"탱크\", 150, 35)\n",
    "\n",
    "# 레이스 : 공중 유닛, 비행기, 클로킹 (상대방에게 보이지 않음)\n",
    "wraith1 = Unit(\"레이스\", 80, 5)\n",
    "\n",
    "# . 을 찍어서 멤버변수에 접근한다.\n",
    "print(\"유닛 이름 : {0}, 공격력 {1}\".format(wraith1.name, wraith1.damage))\n",
    "\n",
    "# 마인드 컨트롤 : 상대방 유닛을 내 것으로 만드는 것 (빼앗음)\n",
    "wraith2 = Unit(\"빼앗은 레이스\", 80, 5)\n",
    "\n",
    "# 파이썬에서는 어떤 객체의 추가로 변수를 외부에서 만들어 쓸 수 있다.\n",
    "wraith2.clocking = True\n",
    "\n",
    "if wraith2.clocking == True:\n",
    "    print(\"{0}는 현재 클로킹 상태입니다.\".format(wraith2.name))"
   ]
  }
 ],
 "metadata": {
  "kernelspec": {
   "display_name": "base",
   "language": "python",
   "name": "python3"
  },
  "language_info": {
   "codemirror_mode": {
    "name": "ipython",
    "version": 3
   },
   "file_extension": ".py",
   "mimetype": "text/x-python",
   "name": "python",
   "nbconvert_exporter": "python",
   "pygments_lexer": "ipython3",
   "version": "3.12.4"
  }
 },
 "nbformat": 4,
 "nbformat_minor": 2
}
