{
 "cells": [
  {
   "cell_type": "code",
   "execution_count": 1,
   "metadata": {},
   "outputs": [
    {
     "name": "stdout",
     "output_type": "stream",
     "text": [
      "마린 유닛이 생성 되었습니다.\n",
      "체력 40, 공격력 5\n",
      "마린 유닛이 생성 되었습니다.\n",
      "체력 40, 공격력 5\n",
      "탱크 유닛이 생성 되었습니다.\n",
      "체력 150, 공격력 35\n"
     ]
    },
    {
     "ename": "TypeError",
     "evalue": "Unit.__init__() missing 2 required positional arguments: 'hp' and 'damage'",
     "output_type": "error",
     "traceback": [
      "\u001b[0;31m---------------------------------------------------------------------------\u001b[0m",
      "\u001b[0;31mTypeError\u001b[0m                                 Traceback (most recent call last)",
      "Cell \u001b[0;32mIn[1], line 15\u001b[0m\n\u001b[1;32m     13\u001b[0m marine2 \u001b[38;5;241m=\u001b[39m Unit(\u001b[38;5;124m\"\u001b[39m\u001b[38;5;124m마린\u001b[39m\u001b[38;5;124m\"\u001b[39m, \u001b[38;5;241m40\u001b[39m, \u001b[38;5;241m5\u001b[39m) \u001b[38;5;66;03m# 인스턴스\u001b[39;00m\n\u001b[1;32m     14\u001b[0m tank \u001b[38;5;241m=\u001b[39m Unit(\u001b[38;5;124m\"\u001b[39m\u001b[38;5;124m탱크\u001b[39m\u001b[38;5;124m\"\u001b[39m, \u001b[38;5;241m150\u001b[39m, \u001b[38;5;241m35\u001b[39m) \u001b[38;5;66;03m# 인스턴스\u001b[39;00m\n\u001b[0;32m---> 15\u001b[0m marine3 \u001b[38;5;241m=\u001b[39m Unit(\u001b[38;5;124m\"\u001b[39m\u001b[38;5;124m마린\u001b[39m\u001b[38;5;124m\"\u001b[39m)\n\u001b[1;32m     16\u001b[0m marine3 \u001b[38;5;241m=\u001b[39m Unit(\u001b[38;5;124m\"\u001b[39m\u001b[38;5;124m마린\u001b[39m\u001b[38;5;124m\"\u001b[39m,\u001b[38;5;241m40\u001b[39m)\n",
      "\u001b[0;31mTypeError\u001b[0m: Unit.__init__() missing 2 required positional arguments: 'hp' and 'damage'"
     ]
    }
   ],
   "source": [
    "class Unit:\n",
    "    \n",
    "    # init 은 생성자\n",
    "    def __init__(self, name, hp, damage):\n",
    "        self.name = name\n",
    "        self.hp = hp\n",
    "        self.damage = damage\n",
    "        print(f\"{name} 유닛이 생성 되었습니다.\")\n",
    "        print(f\"체력 {hp}, 공격력 {damage}\")\n",
    "\n",
    "\n",
    "marine1 = Unit(\"마린\", 40, 5) # 인스턴스\n",
    "marine2 = Unit(\"마린\", 40, 5) # 인스턴스\n",
    "tank = Unit(\"탱크\", 150, 35) # 인스턴스"
   ]
  }
 ],
 "metadata": {
  "kernelspec": {
   "display_name": "base",
   "language": "python",
   "name": "python3"
  },
  "language_info": {
   "codemirror_mode": {
    "name": "ipython",
    "version": 3
   },
   "file_extension": ".py",
   "mimetype": "text/x-python",
   "name": "python",
   "nbconvert_exporter": "python",
   "pygments_lexer": "ipython3",
   "version": "3.12.4"
  }
 },
 "nbformat": 4,
 "nbformat_minor": 2
}
