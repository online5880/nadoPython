{
 "cells": [
  {
   "cell_type": "code",
   "execution_count": 1,
   "metadata": {},
   "outputs": [
    {
     "name": "stdout",
     "output_type": "stream",
     "text": [
      "{'이름': '박명수', '나이': 30, '취미': ['축구', '골프', '코딩']}\n"
     ]
    }
   ],
   "source": [
    "import pickle\n",
    "\n",
    "# close() 를 할 필요 없다.\n",
    "with open(\"profile.pickle\",\"rb\") as profile_file:\n",
    "    print(pickle.load(profile_file))"
   ]
  },
  {
   "cell_type": "code",
   "execution_count": 2,
   "metadata": {},
   "outputs": [],
   "source": [
    "with open(\"study.txt\",\"w\",encoding=\"utf8\") as study_file:\n",
    "    study_file.write(\"파이썬을 열심히 공부하고 있어요.\")"
   ]
  },
  {
   "cell_type": "code",
   "execution_count": 3,
   "metadata": {},
   "outputs": [
    {
     "name": "stdout",
     "output_type": "stream",
     "text": [
      "파이썬을 열심히 공부하고 있어요.\n"
     ]
    }
   ],
   "source": [
    "with open(\"study.txt\",\"r\",encoding=\"utf8\") as study_file:\n",
    "    print(study_file.read())"
   ]
  }
 ],
 "metadata": {
  "kernelspec": {
   "display_name": "Python 3",
   "language": "python",
   "name": "python3"
  },
  "language_info": {
   "codemirror_mode": {
    "name": "ipython",
    "version": 3
   },
   "file_extension": ".py",
   "mimetype": "text/x-python",
   "name": "python",
   "nbconvert_exporter": "python",
   "pygments_lexer": "ipython3",
   "version": "3.12.4"
  }
 },
 "nbformat": 4,
 "nbformat_minor": 2
}
