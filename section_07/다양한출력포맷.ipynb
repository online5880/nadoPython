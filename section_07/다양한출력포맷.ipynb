{
 "cells": [
  {
   "cell_type": "code",
   "execution_count": 3,
   "metadata": {},
   "outputs": [
    {
     "name": "stdout",
     "output_type": "stream",
     "text": [
      "       500\n"
     ]
    }
   ],
   "source": [
    "# 빈 자리는 빈공간으로 두고, 오른쪽 정렬을 하되, 총 10자리 공간을 확보\n",
    "print(\"{0: >10}\".format(500))"
   ]
  },
  {
   "cell_type": "code",
   "execution_count": 6,
   "metadata": {},
   "outputs": [
    {
     "name": "stdout",
     "output_type": "stream",
     "text": [
      "      +500\n",
      "      -500\n"
     ]
    }
   ],
   "source": [
    "# 양수일 땐 +로 표시, 음수일 땐 -로 표시\n",
    "print(\"{0: >+10}\".format(500))\n",
    "print(\"{0: >+10}\".format(-500))"
   ]
  },
  {
   "cell_type": "code",
   "execution_count": 9,
   "metadata": {},
   "outputs": [
    {
     "name": "stdout",
     "output_type": "stream",
     "text": [
      "500_______\n"
     ]
    }
   ],
   "source": [
    "# 왼쪽 정렬하고, 빈칸을 _로 채움\n",
    "print(\"{0:_<10}\".format(500))"
   ]
  },
  {
   "cell_type": "code",
   "execution_count": 11,
   "metadata": {},
   "outputs": [
    {
     "name": "stdout",
     "output_type": "stream",
     "text": [
      "100,000,000,000\n"
     ]
    }
   ],
   "source": [
    "# 3자리 마다 콤마를 찍어주기\n",
    "print(\"{0:,}\".format(100000000000))"
   ]
  },
  {
   "cell_type": "code",
   "execution_count": 14,
   "metadata": {},
   "outputs": [
    {
     "name": "stdout",
     "output_type": "stream",
     "text": [
      "+100,000,000,000\n",
      "-100,000,000,000\n"
     ]
    }
   ],
   "source": [
    "# 3자리 마다 콤마를 찍어주기, +- 부호도 붙이기\n",
    "print(\"{0:+,}\".format(100000000000))\n",
    "print(\"{0:+,}\".format(-100000000000))"
   ]
  },
  {
   "cell_type": "code",
   "execution_count": 15,
   "metadata": {},
   "outputs": [
    {
     "name": "stdout",
     "output_type": "stream",
     "text": [
      "+100,000,000,000,000^^^^^^^^^^\n"
     ]
    }
   ],
   "source": [
    "# 3자리 마다 콤마를 찍어주기, 부호도 붙이고, 자릿수 확보하기\n",
    "# 돈이 많으면 행복하니까 빈 자리는 ^ 로 채워주기\n",
    "print(\"{0:^<+30,}\".format(100000000000000))"
   ]
  },
  {
   "cell_type": "code",
   "execution_count": 19,
   "metadata": {},
   "outputs": [
    {
     "name": "stdout",
     "output_type": "stream",
     "text": [
      "1.666667\n"
     ]
    }
   ],
   "source": [
    "# 소수점 출력\n",
    "print(\"{0:f}\".format(5 / 3))"
   ]
  },
  {
   "cell_type": "code",
   "execution_count": 21,
   "metadata": {},
   "outputs": [
    {
     "name": "stdout",
     "output_type": "stream",
     "text": [
      "1.67\n"
     ]
    }
   ],
   "source": [
    "# 소수점 특정 자리수 까지만 표시\n",
    "print(\"{0:.2f}\".format(5 / 3))"
   ]
  }
 ],
 "metadata": {
  "kernelspec": {
   "display_name": "base",
   "language": "python",
   "name": "python3"
  },
  "language_info": {
   "codemirror_mode": {
    "name": "ipython",
    "version": 3
   },
   "file_extension": ".py",
   "mimetype": "text/x-python",
   "name": "python",
   "nbconvert_exporter": "python",
   "pygments_lexer": "ipython3",
   "version": "3.12.4"
  }
 },
 "nbformat": 4,
 "nbformat_minor": 2
}
