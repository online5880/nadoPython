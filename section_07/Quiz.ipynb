{
 "cells": [
  {
   "cell_type": "markdown",
   "metadata": {},
   "source": [
    "### Quiz) 당신은 회사에서 매주 1회 작성해야 하는 보고서가 있습니다.\n",
    "### 보고서는 항상 아래와 같은 형식으로 출력되어야 합니다.\n",
    "\n",
    "### - X 주차 주간보고 -\n",
    "### 부서 :\n",
    "### 이름 : \n",
    "### 업무 요약 : \n",
    "\n",
    "### 1 주차부터 50주차까지의 보고서 파일을 만드는 프로그램을 작성하시오.\n",
    "\n",
    "### 조건 : 파일명은 '1주차.txt', '2주차.txt',... 와 같이 만듭니다."
   ]
  },
  {
   "cell_type": "code",
   "execution_count": 2,
   "metadata": {},
   "outputs": [],
   "source": [
    "for i in range(1, 51):\n",
    "    with open(f\"{i}주차.txt\",\"w\",encoding=\"utf8\") as report:\n",
    "        report.write(f\" - {i} 주차 주간보고 - \")\n",
    "        report.write(\"\\n부서 이름 : \")\n",
    "        report.write(\"\\n이름 : \")\n",
    "        report.write(\"\\n업무 요약 : \")"
   ]
  }
 ],
 "metadata": {
  "kernelspec": {
   "display_name": "Python 3",
   "language": "python",
   "name": "python3"
  },
  "language_info": {
   "codemirror_mode": {
    "name": "ipython",
    "version": 3
   },
   "file_extension": ".py",
   "mimetype": "text/x-python",
   "name": "python",
   "nbconvert_exporter": "python",
   "pygments_lexer": "ipython3",
   "version": "3.12.4"
  }
 },
 "nbformat": 4,
 "nbformat_minor": 2
}
