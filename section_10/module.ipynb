{
 "cells": [
  {
   "cell_type": "code",
   "execution_count": 1,
   "metadata": {},
   "outputs": [
    {
     "name": "stdout",
     "output_type": "stream",
     "text": [
      "3명 가격은 30000원 입니다.\n",
      "4명 조조 할인 가격은 24000원 입니다.\n",
      "5명 군인 할인 가격은 20000원 입니다.\n"
     ]
    }
   ],
   "source": [
    "# 모듈이란?\n",
    "# - 예를 들어 필요한 것들끼리 부품처럼 잘 만들어진 파일\n",
    "\n",
    "import theater_module\n",
    "\n",
    "theater_module.price(3)  # 3명이서 영화 보러 갔을 때 가격\n",
    "theater_module.price_morning(4)  # 4명이서 조조 할인 영화보러 갔을 때\n",
    "theater_module.price_soldier(5)  # 5명의 군인이 영화보러 갔을 때"
   ]
  },
  {
   "cell_type": "code",
   "execution_count": 2,
   "metadata": {},
   "outputs": [
    {
     "name": "stdout",
     "output_type": "stream",
     "text": [
      "3명 가격은 30000원 입니다.\n",
      "4명 조조 할인 가격은 24000원 입니다.\n",
      "5명 군인 할인 가격은 20000원 입니다.\n"
     ]
    }
   ],
   "source": [
    "# as 뒤에 새로운 별명을 만들어준다.\n",
    "import theater_module as mv\n",
    "\n",
    "mv.price(3)\n",
    "mv.price_morning(4)\n",
    "mv.price_soldier(5)"
   ]
  },
  {
   "cell_type": "code",
   "execution_count": 3,
   "metadata": {},
   "outputs": [
    {
     "name": "stdout",
     "output_type": "stream",
     "text": [
      "3명 가격은 30000원 입니다.\n",
      "4명 조조 할인 가격은 24000원 입니다.\n",
      "5명 군인 할인 가격은 20000원 입니다.\n"
     ]
    }
   ],
   "source": [
    "from theater_module import *\n",
    "\n",
    "price(3)\n",
    "price_morning(4)\n",
    "price_soldier(5)"
   ]
  },
  {
   "cell_type": "code",
   "execution_count": 4,
   "metadata": {},
   "outputs": [
    {
     "name": "stdout",
     "output_type": "stream",
     "text": [
      "5명 가격은 50000원 입니다.\n",
      "6명 조조 할인 가격은 36000원 입니다.\n"
     ]
    }
   ],
   "source": [
    "from theater_module import price_morning, price\n",
    "\n",
    "price(5)\n",
    "price_morning(6)"
   ]
  },
  {
   "cell_type": "code",
   "execution_count": 5,
   "metadata": {},
   "outputs": [
    {
     "name": "stdout",
     "output_type": "stream",
     "text": [
      "5명 군인 할인 가격은 20000원 입니다.\n"
     ]
    }
   ],
   "source": [
    "from theater_module import price_soldier as price\n",
    "\n",
    "price(5)"
   ]
  }
 ],
 "metadata": {
  "kernelspec": {
   "display_name": "base",
   "language": "python",
   "name": "python3"
  },
  "language_info": {
   "codemirror_mode": {
    "name": "ipython",
    "version": 3
   },
   "file_extension": ".py",
   "mimetype": "text/x-python",
   "name": "python",
   "nbconvert_exporter": "python",
   "pygments_lexer": "ipython3",
   "version": "3.12.4"
  }
 },
 "nbformat": 4,
 "nbformat_minor": 2
}
