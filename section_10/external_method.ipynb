{
 "cells": [
  {
   "cell_type": "code",
   "execution_count": 2,
   "metadata": {},
   "outputs": [
    {
     "name": "stdout",
     "output_type": "stream",
     "text": [
      "['theater_module.py']\n"
     ]
    }
   ],
   "source": [
    "# glob : 경로 내의 폴더 / 파일 목록 조회 (윈도우 dir)\n",
    "import glob\n",
    "\n",
    "print(glob.glob(\"*.py\"))  # 확장자가 py 인 모든 파일"
   ]
  },
  {
   "cell_type": "code",
   "execution_count": 11,
   "metadata": {},
   "outputs": [
    {
     "name": "stdout",
     "output_type": "stream",
     "text": [
      "/Users/mane/Documents/인프런/nadoCoding/section_10\n",
      "['pip_install.ipynb', 'module.ipynb', '\\x08inner_method.ipynb', 'package.ipynb', '__pycache__', 'external_method.ipynb', 'travel', 'theater_module.py']\n"
     ]
    }
   ],
   "source": [
    "# os : 운영체제에서 제공하는 기본 기능\n",
    "import os\n",
    "\n",
    "print(os.getcwd())  # 현재 디렉토리\n",
    "\n",
    "folder = \"sample_dir\"\n",
    "\n",
    "if os.path.exists(folder):\n",
    "    print(\"이미 존재하는 폴더입니다.\")\n",
    "    os.rmdir(folder)\n",
    "    print(folder, \"폴더를 삭제하였습니다.\")\n",
    "else:\n",
    "    os.makedirs(folder)  # 폴더 생성\n",
    "    print(folder, \"폴더를 생성하였습니다.\")\n",
    "\n",
    "print(os.listdir())"
   ]
  },
  {
   "cell_type": "code",
   "execution_count": 16,
   "metadata": {},
   "outputs": [
    {
     "name": "stdout",
     "output_type": "stream",
     "text": [
      "time.struct_time(tm_year=2024, tm_mon=7, tm_mday=21, tm_hour=22, tm_min=20, tm_sec=53, tm_wday=6, tm_yday=203, tm_isdst=0)\n",
      "2024-07-21 22:20:53\n"
     ]
    }
   ],
   "source": [
    "# time : 시간 관련 함수\n",
    "import time\n",
    "\n",
    "print(time.localtime())\n",
    "print(time.strftime(\"%Y-%m-%d %H:%M:%S\"))"
   ]
  },
  {
   "cell_type": "code",
   "execution_count": 19,
   "metadata": {},
   "outputs": [
    {
     "name": "stdout",
     "output_type": "stream",
     "text": [
      "오늘 날짜는  2024-07-21\n",
      "우리가 만난지 100일은 2024-10-29\n"
     ]
    }
   ],
   "source": [
    "import datetime\n",
    "\n",
    "print(\"오늘 날짜는 \", datetime.date.today())\n",
    "\n",
    "# timedelta : 두 날짜 사이의 간격\n",
    "today = datetime.date.today()\n",
    "td = datetime.timedelta(days=100)  # 100일 저장\n",
    "print(\"우리가 만난지 100일은\", today + td)  # 오늘부터 100일 후"
   ]
  }
 ],
 "metadata": {
  "kernelspec": {
   "display_name": "base",
   "language": "python",
   "name": "python3"
  },
  "language_info": {
   "codemirror_mode": {
    "name": "ipython",
    "version": 3
   },
   "file_extension": ".py",
   "mimetype": "text/x-python",
   "name": "python",
   "nbconvert_exporter": "python",
   "pygments_lexer": "ipython3",
   "version": "3.12.4"
  }
 },
 "nbformat": 4,
 "nbformat_minor": 2
}
