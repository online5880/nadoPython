{
 "cells": [
  {
   "cell_type": "code",
   "execution_count": null,
   "metadata": {},
   "outputs": [],
   "source": [
    "# 패키지란?\n",
    "# 하나의 디렉토리에 여러 모듈 파일들을 갖다 놓은 것들"
   ]
  },
  {
   "cell_type": "code",
   "execution_count": 1,
   "metadata": {},
   "outputs": [
    {
     "name": "stdout",
     "output_type": "stream",
     "text": [
      "[태국 패키지 3박 5일] 방콕, 파타야 여행 (야시장 투어) 50만원\n"
     ]
    }
   ],
   "source": [
    "import travel.thailand\n",
    "\n",
    "trip_to = travel.thailand.ThailandPacakge()\n",
    "trip_to.detail()\n",
    "\n",
    "# 클래스나 함수는 바로 임포트 불가"
   ]
  },
  {
   "cell_type": "code",
   "execution_count": 2,
   "metadata": {},
   "outputs": [
    {
     "name": "stdout",
     "output_type": "stream",
     "text": [
      "[태국 패키지 3박 5일] 방콕, 파타야 여행 (야시장 투어) 50만원\n"
     ]
    }
   ],
   "source": [
    "from travel.thailand import ThailandPacakge\n",
    "\n",
    "trip_to = ThailandPacakge()\n",
    "trip_to.detail()"
   ]
  },
  {
   "cell_type": "code",
   "execution_count": 3,
   "metadata": {},
   "outputs": [
    {
     "name": "stdout",
     "output_type": "stream",
     "text": [
      "[베트남 패키지 3박 5일] 다낭 효도 여행 60만원\n"
     ]
    }
   ],
   "source": [
    "from travel import vietnam\n",
    "\n",
    "trip_to = vietnam.VietnamePackage()\n",
    "trip_to.detail()"
   ]
  },
  {
   "cell_type": "code",
   "execution_count": 1,
   "metadata": {},
   "outputs": [
    {
     "name": "stdout",
     "output_type": "stream",
     "text": [
      "[베트남 패키지 3박 5일] 다낭 효도 여행 60만원\n"
     ]
    }
   ],
   "source": [
    "from travel import *\n",
    "\n",
    "trip_to = vietnam.VietnamePackage()\n",
    "trip_to.detail()"
   ]
  },
  {
   "cell_type": "code",
   "execution_count": 1,
   "metadata": {},
   "outputs": [
    {
     "name": "stdout",
     "output_type": "stream",
     "text": [
      "Thailand 외부에서 모듈 호출\n",
      "[태국 패키지 3박 5일] 방콕, 파타야 여행 (야시장 투어) 50만원\n"
     ]
    }
   ],
   "source": [
    "from travel import *\n",
    "\n",
    "trip_to = thailand.ThailandPacakge()\n",
    "trip_to.detail()"
   ]
  },
  {
   "cell_type": "code",
   "execution_count": 2,
   "metadata": {},
   "outputs": [
    {
     "name": "stdout",
     "output_type": "stream",
     "text": [
      "Thailand 외부에서 모듈 호출\n",
      "[태국 패키지 3박 5일] 방콕, 파타야 여행 (야시장 투어) 50만원\n",
      "/opt/anaconda3/lib/python3.12/random.py\n",
      "/Users/mane/Documents/인프런/nadoCoding/section_10/travel/thailand.py\n"
     ]
    }
   ],
   "source": [
    "from travel import *\n",
    "\n",
    "trip_to = thailand.ThailandPacakge()\n",
    "trip_to.detail()\n",
    "\n",
    "import inspect\n",
    "import random\n",
    "\n",
    "print(inspect.getfile(random))\n",
    "print(inspect.getfile(thailand))"
   ]
  }
 ],
 "metadata": {
  "kernelspec": {
   "display_name": "base",
   "language": "python",
   "name": "python3"
  },
  "language_info": {
   "codemirror_mode": {
    "name": "ipython",
    "version": 3
   },
   "file_extension": ".py",
   "mimetype": "text/x-python",
   "name": "python",
   "nbconvert_exporter": "python",
   "pygments_lexer": "ipython3",
   "version": "3.12.4"
  }
 },
 "nbformat": 4,
 "nbformat_minor": 2
}
